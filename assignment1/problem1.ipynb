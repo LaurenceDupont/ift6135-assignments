{
 "cells": [
  {
   "cell_type": "markdown",
   "metadata": {},
   "source": [
    "# Problem 1"
   ]
  },
  {
   "cell_type": "code",
   "execution_count": 1,
   "metadata": {},
   "outputs": [],
   "source": [
    "import numpy as np\n",
    "import gzip\n",
    "import pickle\n",
    "import matplotlib.pyplot as plt\n",
    "import math\n",
    "import sklearn.metrics as metrics"
   ]
  },
  {
   "cell_type": "code",
   "execution_count": 2,
   "metadata": {},
   "outputs": [],
   "source": [
    "# Load MNIST\n",
    "f = gzip.open('data/mnist.pkl.gz') \n",
    "mnist = pickle.load(f, encoding='latin1')"
   ]
  },
  {
   "cell_type": "code",
   "execution_count": 3,
   "metadata": {},
   "outputs": [],
   "source": [
    "mnist_train_features = mnist[0][0] #(50000,784)\n",
    "mnist_train_labels = mnist[0][1]   #(50000,1)\n",
    "\n",
    "mnist_valid_features = mnist[1][0] #(10000,784)\n",
    "mnist_valid_labels = mnist[1][1]   #(50000,1)\n",
    "\n",
    "mnist_test_features = mnist[2][0]  #(10000,784)\n",
    "mnist_test_labels = mnist[2][1]    #(50000,1)"
   ]
  },
  {
   "cell_type": "code",
   "execution_count": 4,
   "metadata": {},
   "outputs": [],
   "source": [
    "# Reduce the dataset size for testing, if needed (ex: X_train = mnist_train_features[0:10000])\n",
    "X_train = mnist_train_features[0:1000]\n",
    "y_train = mnist_train_labels[0:1000]\n",
    "\n",
    "X_valid = mnist_valid_features[0:100]\n",
    "y_valid = mnist_valid_labels[0:100]\n",
    "\n",
    "X_test = mnist_test_features[0:100]\n",
    "y_test = mnist_test_labels[0:100]"
   ]
  },
  {
   "cell_type": "code",
   "execution_count": 16,
   "metadata": {},
   "outputs": [
    {
     "data": {
      "text/plain": [
       "array([2, 0, 1], dtype=int64)"
      ]
     },
     "execution_count": 16,
     "metadata": {},
     "output_type": "execute_result"
    }
   ],
   "source": [
    "np.argmax([[1,2,3],[3,2,1],[1,3,2]], axis=1)"
   ]
  },
  {
   "cell_type": "markdown",
   "metadata": {},
   "source": [
    "## Building the Model"
   ]
  },
  {
   "cell_type": "code",
   "execution_count": 17,
   "metadata": {},
   "outputs": [],
   "source": [
    "class NN(object):\n",
    "    \n",
    "    def __init__(self,hidden_dims=(1024,2048),weight_mode=None,epochs=10,learning_rate=0.001):\n",
    "        self.b1 = np.zeros((hidden_dims[0]))\n",
    "        self.b2 = np.zeros((hidden_dims[1]))\n",
    "        self.b3 = np.zeros((10))\n",
    "        \n",
    "        self.initialize_weights(hidden_dims,weight_mode)\n",
    "        \n",
    "        self.learning_rate = learning_rate\n",
    "        self.epochs = epochs\n",
    "\n",
    "    def initialize_weights(self,hidden_dims,weight_mode):\n",
    "        W1_dim = (784, hidden_dims[0])\n",
    "        W2_dim = (hidden_dims[0], hidden_dims[1])\n",
    "        W3_dim = (hidden_dims[1], 10)\n",
    "        \n",
    "        if weight_mode == \"zero\":\n",
    "            self.W1 = np.zeros(W1_dim)\n",
    "            self.W2 = np.zeros(W2_dim)\n",
    "            self.W3 = np.zeros(W3_dim)\n",
    "            \n",
    "        elif weight_mode == \"normal\":\n",
    "            np.random.seed(0)\n",
    "            self.W1 = np.random.standard_normal(W1_dim)\n",
    "            self.W2 = np.random.standard_normal(W2_dim)\n",
    "            self.W3 = np.random.standard_normal(W3_dim)\n",
    "            \n",
    "        elif weight_mode == \"glorot\":\n",
    "            np.random.seed(0)\n",
    "            \n",
    "            d1 = math.sqrt(6.0 / (W1_dim[0] + W1_dim[1]))\n",
    "            d2 = math.sqrt(6.0 / (W2_dim[0] + W2_dim[1]))\n",
    "            d3 = math.sqrt(6.0 / (W3_dim[0] + W3_dim[1]))\n",
    "            \n",
    "            self.W1 = np.random.uniform(-d1, d1, W1_dim)\n",
    "            self.W2 = np.random.uniform(-d2, d2, W2_dim)\n",
    "            self.W3 = np.random.uniform(-d3, d3, W3_dim)\n",
    "        \n",
    "        else:\n",
    "            raise Exception(\"Unsupported weight_mode value\")\n",
    "\n",
    "    def forward(self,data):\n",
    "        cache = {}\n",
    "        \n",
    "        cache[\"h0\"] = np.copy(data)\n",
    "        cache[\"a1\"] = np.dot(cache[\"h0\"], self.W1) + self.b1\n",
    "        cache[\"h1\"] = self.activation(cache[\"a1\"])\n",
    "        cache[\"a2\"] = np.dot(cache[\"h1\"], self.W2) + self.b2\n",
    "        cache[\"h2\"] = self.activation(cache[\"a2\"])\n",
    "        cache[\"a3\"] = np.dot(cache[\"h2\"], self.W3) + self.b3\n",
    "        cache[\"h3\"] = self.softmax(cache[\"a3\"])\n",
    "        \n",
    "        return cache\n",
    "\n",
    "    def activation(self,data): # RELU\n",
    "        return np.where(data > 0, data, 0.0)\n",
    "    \n",
    "    def activation_derivative(self,data): # RELU derivative\n",
    "        return np.where(data > 0, 1.0, 0.0)\n",
    "\n",
    "    def loss(self,data,labels):\n",
    "        cache = self.forward(data)\n",
    "        one_hot_truth = np.eye(10)[labels]\n",
    "        one_hot_pred = np.zeros((shape(data)[0], 10))\n",
    "        one_hot_pred[np.argmax(cache[\"h3\"], axis=1)] = 1\n",
    "        log_loss = -np.sum(np.dot(np.where(one_hot_pred==one_hot_truth,1,0).T, np.log(data)), axis=1)\n",
    "        \n",
    "        # metrics.log_loss(labels, cache[\"h3\"])\n",
    "        return  log_loss\n",
    "\n",
    "    def softmax(self,data): # Numerically stable softmax\n",
    "        result = np.exp(data - np.max(data, axis=1, keepdims=True))\n",
    "        result = result / np.sum(result, axis=1, keepdims=True)\n",
    "        return result\n",
    "\n",
    "    def backward(self,cache,labels):\n",
    "        grads = {}\n",
    "\n",
    "        grads[\"a3\"] = cache[\"h3\"] - np.eye(10)[labels]\n",
    "        grads[\"W3\"] = np.dot(cache[\"h2\"].T, grads[\"a3\"])\n",
    "        grads[\"b3\"] = np.sum(grads[\"a3\"], axis=0)\n",
    "        \n",
    "        grads[\"h2\"] = np.dot(grads[\"a3\"], self.W3.T)\n",
    "        grads[\"a2\"] = grads[\"h2\"] * self.activation_derivative(cache[\"a2\"])\n",
    "        grads[\"W2\"] = np.dot(cache[\"h1\"].T, grads[\"a2\"])\n",
    "        grads[\"b2\"] = np.sum(grads[\"a2\"], axis=0)\n",
    "        \n",
    "        grads[\"h1\"] = np.dot(grads[\"a2\"], self.W2.T)\n",
    "        grads[\"a1\"] = grads[\"h1\"] * self.activation_derivative(cache[\"a1\"])\n",
    "        grads[\"W1\"] = np.dot(cache[\"h0\"].T, grads[\"a1\"])\n",
    "        grads[\"b1\"] = np.sum(grads[\"a1\"], axis=0)\n",
    "        \n",
    "        return grads\n",
    "\n",
    "    def update(self,grads):\n",
    "        self.b3 -= (self.learning_rate * grads[\"b3\"])\n",
    "        self.W3 -= (self.learning_rate * grads[\"W3\"])\n",
    "        self.b2 -= (self.learning_rate * grads[\"b2\"])\n",
    "        self.W2 -= (self.learning_rate * grads[\"W2\"])\n",
    "        self.b1 -= (self.learning_rate * grads[\"b1\"])\n",
    "        self.W1 -= (self.learning_rate * grads[\"W1\"])\n",
    "\n",
    "    def train(self,data,labels):\n",
    "        train_info = {}\n",
    "        train_info[\"average_losses\"] = []\n",
    "        \n",
    "        print(\"Epoch\\tAccuracy\\tAverage Loss\")\n",
    "        \n",
    "        for epoch in range(self.epochs): # TODO: implement mini-batch gradient descent\n",
    "            cache = self.forward(data)\n",
    "            grads = self.backward(cache,labels)\n",
    "            self.update(grads)\n",
    "            \n",
    "            predictions = np.argmax(cache[\"h3\"], axis=1)\n",
    "            \n",
    "            accuracy = np.mean(predictions == labels)\n",
    "            \n",
    "            average_loss = self.loss(data, labels)\n",
    "            train_info[\"average_losses\"].append(average_loss)\n",
    "            \n",
    "            print(epoch + 1, \"\\t\", \"{0:.4f}\".format(accuracy), \"\\t\", \"{0:.4f}\".format(average_loss))\n",
    "        \n",
    "        return train_info\n",
    "\n",
    "    def test(self, data):\n",
    "        cache = self.forward(data)\n",
    "        predictions = cache[\"h3\"].argmax(1).astype(int)\n",
    "        return predictions\n"
   ]
  },
  {
   "cell_type": "code",
   "execution_count": null,
   "metadata": {},
   "outputs": [],
   "source": []
  },
  {
   "cell_type": "markdown",
   "metadata": {},
   "source": [
    "## Initialization"
   ]
  },
  {
   "cell_type": "code",
   "execution_count": 6,
   "metadata": {},
   "outputs": [
    {
     "name": "stdout",
     "output_type": "stream",
     "text": [
      "zero\n",
      "Epoch\tAccuracy\tAverage Loss\n",
      "1 \t 0.0970 \t 2.3025\n",
      "2 \t 0.1170 \t 2.3025\n",
      "3 \t 0.1170 \t 2.3025\n",
      "4 \t 0.1170 \t 2.3024\n",
      "5 \t 0.1170 \t 2.3024\n",
      "6 \t 0.1170 \t 2.3023\n",
      "7 \t 0.1170 \t 2.3023\n",
      "8 \t 0.1170 \t 2.3022\n",
      "9 \t 0.1170 \t 2.3022\n",
      "10 \t 0.1170 \t 2.3022\n",
      "\n",
      "normal\n",
      "Epoch\tAccuracy\tAverage Loss\n",
      "1 \t 0.0640 \t 22.0334\n",
      "2 \t 0.3590 \t 27.0206\n",
      "3 \t 0.2170 \t 29.0875\n",
      "4 \t 0.1560 \t 26.3922\n",
      "5 \t 0.2350 \t 28.4294\n",
      "6 \t 0.1760 \t 22.9852\n",
      "7 \t 0.3330 \t 20.3866\n",
      "8 \t 0.4080 \t 14.8187\n",
      "9 \t 0.5640 \t 9.0235\n",
      "10 \t 0.7330 \t 7.2371\n",
      "\n",
      "glorot\n",
      "Epoch\tAccuracy\tAverage Loss\n",
      "1 \t 0.1000 \t 2.3091\n",
      "2 \t 0.1230 \t 2.2595\n",
      "3 \t 0.1670 \t 2.2132\n",
      "4 \t 0.2350 \t 2.1691\n",
      "5 \t 0.3150 \t 2.1265\n",
      "6 \t 0.4170 \t 2.0848\n",
      "7 \t 0.5020 \t 2.0435\n",
      "8 \t 0.5560 \t 2.0024\n",
      "9 \t 0.5900 \t 1.9611\n",
      "10 \t 0.6300 \t 1.9198\n",
      "\n"
     ]
    },
    {
     "data": {
      "image/png": "[encoded data removed]",
      "text/plain": [
       "<Figure size 432x288 with 1 Axes>"
      ]
     },
     "metadata": {
      "needs_background": "light"
     },
     "output_type": "display_data"
    }
   ],
   "source": [
    "for weight_mode in [\"zero\", \"normal\", \"glorot\"]:\n",
    "    print(weight_mode)\n",
    "    nn = NN(hidden_dims=(600,400),weight_mode=weight_mode,epochs=10,learning_rate=0.00005)\n",
    "    train_info = nn.train(X_train, y_train)\n",
    "    plt.plot(np.arange(1,11,1), train_info[\"average_losses\"], label=weight_mode)\n",
    "    print()\n",
    "\n",
    "plt.title(\"Average loss by epoch\")\n",
    "plt.xlabel(\"Epoch\")\n",
    "plt.ylabel(\"Average loss\")\n",
    "plt.legend()\n",
    "plt.show()"
   ]
  },
  {
   "cell_type": "code",
   "execution_count": null,
   "metadata": {},
   "outputs": [],
   "source": []
  }
 ],
 "metadata": {
  "kernelspec": {
   "display_name": "Python 3",
   "language": "python",
   "name": "python3"
  },
  "language_info": {
   "codemirror_mode": {
    "name": "ipython",
    "version": 3
   },
   "file_extension": ".py",
   "mimetype": "text/x-python",
   "name": "python",
   "nbconvert_exporter": "python",
   "pygments_lexer": "ipython3",
   "version": "3.7.1"
  }
 },
 "nbformat": 4,
 "nbformat_minor": 2
}
