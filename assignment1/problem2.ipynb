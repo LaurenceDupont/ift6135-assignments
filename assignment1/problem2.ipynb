{
 "cells": [
  {
   "cell_type": "markdown",
   "metadata": {},
   "source": [
    "# Problem 2"
   ]
  },
  {
   "cell_type": "code",
   "execution_count": 98,
   "metadata": {},
   "outputs": [],
   "source": [
    "from __future__ import print_function\n",
    "import time\n",
    "import numpy as np\n",
    "import gzip\n",
    "import pickle"
   ]
  },
  {
   "cell_type": "code",
   "execution_count": 94,
   "metadata": {},
   "outputs": [],
   "source": [
    "import torch\n",
    "import torch.nn as nn\n",
    "import torch.optim as optim\n",
    "import torch.nn.init as init\n",
    "import torch.nn.functional as F\n",
    "import torchvision\n",
    "import torchvision.transforms\n",
    "import matplotlib.pyplot as plt"
   ]
  },
  {
   "cell_type": "markdown",
   "metadata": {},
   "source": [
    "### Data loading and DataLoaders creation"
   ]
  },
  {
   "cell_type": "code",
   "execution_count": 121,
   "metadata": {},
   "outputs": [],
   "source": [
    "f = gzip.open('mnist.pkl.gz') \n",
    "mnist = pickle.load(f, encoding='latin1')"
   ]
  },
  {
   "cell_type": "code",
   "execution_count": 127,
   "metadata": {},
   "outputs": [],
   "source": [
    "mnist_train_features = np.concatenate((mnist[0][0], mnist[1][0]), axis=0) #(60000,784)\n",
    "mnist_train_labels = np.concatenate((mnist[0][1], mnist[1][1]), axis=0)  #(60000,1)\n",
    "\n",
    "mnist_valid_features = mnist[2][0]  #(10000,784)\n",
    "mnist_valid_labels = mnist[2][1]    #(10000,1)"
   ]
  },
  {
   "cell_type": "code",
   "execution_count": 142,
   "metadata": {},
   "outputs": [],
   "source": [
    "mnist_train_features = mnist_train_features.reshape((60000,1,28,28))\n",
    "mnist_valid_features = mnist_valid_features.reshape((10000,1,28,28))\n",
    "\n",
    "# Reduce the dataset size for testing, if needed (ex: X_train = mnist_train_features[0:10000])\n",
    "mnist_train = torch.utils.data.TensorDataset(torch.tensor(mnist_train_features[0:60000]), torch.tensor(mnist_train_labels[0:60000]))\n",
    "mnist_test = torch.utils.data.TensorDataset(torch.tensor(mnist_valid_features[0:10000]), torch.tensor(mnist_valid_labels[0:10000]))"
   ]
  },
  {
   "cell_type": "code",
   "execution_count": 148,
   "metadata": {},
   "outputs": [],
   "source": [
    "train_loader = torch.utils.data.DataLoader(mnist_train, batch_size=64, shuffle=True, num_workers=2)\n",
    "test_loader = torch.utils.data.DataLoader(mnist_test, batch_size=64, shuffle=True, num_workers=2)"
   ]
  },
  {
   "cell_type": "markdown",
   "metadata": {},
   "source": [
    "### CNN model definition"
   ]
  },
  {
   "cell_type": "code",
   "execution_count": 144,
   "metadata": {},
   "outputs": [],
   "source": [
    "class Classifier(nn.Module):\n",
    "    \"\"\"Convnet Classifier\"\"\"\n",
    "    def __init__(self):\n",
    "        super(Classifier, self).__init__()\n",
    "        self.conv = nn.Sequential(\n",
    "            # Layer 1\n",
    "            nn.Conv2d(in_channels=1, out_channels=64, kernel_size=(3, 3), padding=1),\n",
    "            nn.ReLU(),\n",
    "            \n",
    "            # Layer 2\n",
    "            nn.Conv2d(in_channels=64, out_channels=96, kernel_size=(3, 3), padding=1),\n",
    "            nn.ReLU(),\n",
    "            nn.MaxPool2d(kernel_size=(2, 2), stride=2),\n",
    "            \n",
    "            # Layer 3\n",
    "            nn.Conv2d(in_channels=96, out_channels=128, kernel_size=(3, 3), padding=1),\n",
    "            nn.ReLU(),\n",
    "            nn.MaxPool2d(kernel_size=(2, 2), stride=2),\n",
    "            \n",
    "            # Layer 4\n",
    "            nn.Conv2d(in_channels=128, out_channels=192, kernel_size=(3, 3), padding=1),\n",
    "            nn.ReLU(),\n",
    "            nn.MaxPool2d(kernel_size=(2, 2), stride=2),\n",
    "            \n",
    "            # Layer 5\n",
    "            nn.Conv2d(in_channels=192, out_channels=256, kernel_size=(3,3), padding=1),\n",
    "            nn.ReLU(),\n",
    "            nn.MaxPool2d(kernel_size=(2,2), stride=2)\n",
    "        )\n",
    "        # Logistic Regression\n",
    "        self.clf = nn.Linear(256, 10)\n",
    "\n",
    "    def forward(self, x):\n",
    "        return self.clf(self.conv(x).squeeze())\n"
   ]
  },
  {
   "cell_type": "code",
   "execution_count": 145,
   "metadata": {},
   "outputs": [
    {
     "name": "stdout",
     "output_type": "stream",
     "text": [
      "True\n"
     ]
    }
   ],
   "source": [
    "cuda_available = torch.cuda.is_available()\n",
    "print(cuda_available)"
   ]
  },
  {
   "cell_type": "markdown",
   "metadata": {},
   "source": [
    "### CNN model instanciation and training"
   ]
  },
  {
   "cell_type": "code",
   "execution_count": 173,
   "metadata": {},
   "outputs": [],
   "source": [
    "clf = Classifier()\n",
    "if cuda_available:\n",
    "    clf = clf.cuda()\n",
    "optimizer = torch.optim.SGD(clf.parameters(), lr=1e-2)\n",
    "criterion = nn.CrossEntropyLoss()\n",
    "# This criterion combines nn.LogSoftmax() and nn.NLLLoss() in one single class."
   ]
  },
  {
   "cell_type": "code",
   "execution_count": 174,
   "metadata": {},
   "outputs": [
    {
     "name": "stdout",
     "output_type": "stream",
     "text": [
      "Epoch 0 :\n",
      "Training Loss: 1.8023  Accuracy: 0.2234\n",
      "Validation Loss: 1.7035  Accuracy: 0.4921\n",
      "--------------------------------------------------------------\n",
      "Epoch 1 :\n",
      "Training Loss: 0.2641  Accuracy: 0.8469\n",
      "Validation Loss: 0.3617  Accuracy: 0.8827\n",
      "--------------------------------------------------------------\n",
      "Epoch 2 :\n",
      "Training Loss: 0.1809  Accuracy: 0.9541\n",
      "Validation Loss: 0.1043  Accuracy: 0.9465\n",
      "--------------------------------------------------------------\n",
      "Epoch 3 :\n",
      "Training Loss: 0.0975  Accuracy: 0.9693\n",
      "Validation Loss: 0.0228  Accuracy: 0.9670\n",
      "--------------------------------------------------------------\n",
      "Epoch 4 :\n",
      "Training Loss: 0.0474  Accuracy: 0.9764\n",
      "Validation Loss: 0.1405  Accuracy: 0.9798\n",
      "--------------------------------------------------------------\n",
      "Epoch 5 :\n",
      "Training Loss: 0.0581  Accuracy: 0.9792\n",
      "Validation Loss: 0.0073  Accuracy: 0.9753\n",
      "--------------------------------------------------------------\n",
      "Epoch 6 :\n",
      "Training Loss: 0.0340  Accuracy: 0.9818\n",
      "Validation Loss: 0.0035  Accuracy: 0.9828\n",
      "--------------------------------------------------------------\n",
      "Epoch 7 :\n",
      "Training Loss: 0.0170  Accuracy: 0.9842\n",
      "Validation Loss: 0.2828  Accuracy: 0.9872\n",
      "--------------------------------------------------------------\n",
      "Epoch 8 :\n",
      "Training Loss: 0.0484  Accuracy: 0.9864\n",
      "Validation Loss: 0.0332  Accuracy: 0.9851\n",
      "--------------------------------------------------------------\n",
      "Epoch 9 :\n",
      "Training Loss: 0.0098  Accuracy: 0.9879\n",
      "Validation Loss: 0.0007  Accuracy: 0.9871\n",
      "--------------------------------------------------------------\n"
     ]
    }
   ],
   "source": [
    "dict_err, dict_loss = {}, {}\n",
    "dict_err[\"tr\"] = []\n",
    "dict_err[\"val\"] = []\n",
    "dict_loss[\"tr\"] = []\n",
    "dict_loss[\"val\"] = []\n",
    "for epoch in range(10):\n",
    "    tr_total = 0\n",
    "    tr_correct = 0\n",
    "    # Train\n",
    "    for batch_idx, (inputs, targets) in enumerate(train_loader):\n",
    "        if cuda_available:\n",
    "            inputs, targets = inputs.cuda(), targets.cuda()\n",
    "\n",
    "        optimizer.zero_grad()\n",
    "        outputs = clf(inputs)\n",
    "        loss = criterion(outputs, targets)\n",
    "        loss.backward()\n",
    "        optimizer.step()\n",
    "        tr_loss = loss.data.item()\n",
    "        _, predicted = torch.max(outputs.data, 1)\n",
    "        tr_total += targets.size(0)\n",
    "        tr_correct += predicted.eq(targets.data).cpu().sum()\n",
    "        tr_err = np.float32(tr_correct)/np.float32(tr_total)\n",
    "    dict_loss[\"tr\"].append(tr_loss)\n",
    "    dict_err[\"tr\"].append(tr_err)\n",
    "    \n",
    "    # Evaluate\n",
    "    clf.eval()\n",
    "    val_total = 0\n",
    "    val_correct = 0\n",
    "    for batch_idx, (inputs, targets) in enumerate(test_loader):\n",
    "        if cuda_available:\n",
    "            inputs, targets = inputs.cuda(), targets.cuda()\n",
    "\n",
    "        outputs = clf(inputs)\n",
    "        loss = criterion(outputs, targets)\n",
    "        val_loss = loss.data.item()\n",
    "        _, predicted = torch.max(outputs.data, 1)\n",
    "        val_total += targets.size(0)\n",
    "        val_correct += predicted.eq(targets.data).cpu().sum()\n",
    "        val_err = np.float32(val_correct)/np.float32(val_total)\n",
    "    dict_loss[\"val\"].append(val_loss)\n",
    "    dict_err[\"val\"].append(val_err)\n",
    "\n",
    "    \n",
    "    print('Epoch %d :' % (epoch))\n",
    "    print('Training Loss: %.4f  Accuracy: %.4f' % (tr_loss, tr_err))\n",
    "    print('Validation Loss: %.4f  Accuracy: %.4f' % (val_loss, val_err))\n",
    "    print('--------------------------------------------------------------')\n",
    "    clf.train()\n",
    "\n"
   ]
  },
  {
   "cell_type": "markdown",
   "metadata": {},
   "source": [
    "### Printing graphics..."
   ]
  },
  {
   "cell_type": "code",
   "execution_count": 175,
   "metadata": {},
   "outputs": [
    {
     "data": {
      "text/plain": [
       "<matplotlib.legend.Legend at 0x1e6cca125c0>"
      ]
     },
     "execution_count": 175,
     "metadata": {},
     "output_type": "execute_result"
    },
    {
     "data": {
      "image/png": "[encoded data removed]",
      "text/plain": [
       "<Figure size 1008x360 with 2 Axes>"
      ]
     },
     "metadata": {
      "needs_background": "light"
     },
     "output_type": "display_data"
    }
   ],
   "source": [
    "x = np.arange(1,len(dict_err[\"tr\"])+1,1)\n",
    "plt.figure(figsize=(14,5))\n",
    "plt.subplot(1,2,1)\n",
    "plt.title(\"Training and Validation errors and losses, CNN\")\n",
    "plt.plot(x, dict_err[\"tr\"], label=\"Training acc.\")\n",
    "plt.plot(x, dict_err[\"val\"], label=\"Validation acc.\")\n",
    "plt.xlabel(\"epoch\")\n",
    "plt.ylabel(\"error %\")\n",
    "plt.legend()\n",
    "plt.subplot(1,2,2)\n",
    "plt.title(\"Training and Validation loss, CNN\")\n",
    "plt.plot(x, dict_loss[\"tr\"], label=\"Training loss\")\n",
    "plt.plot(x, dict_loss[\"val\"], label=\"Validation loss\")\n",
    "plt.xlabel(\"epoch\")\n",
    "plt.ylabel(\"loss\")\n",
    "plt.legend()"
   ]
  }
 ],
 "metadata": {
  "kernelspec": {
   "display_name": "Python 3",
   "language": "python",
   "name": "python3"
  },
  "language_info": {
   "codemirror_mode": {
    "name": "ipython",
    "version": 3
   },
   "file_extension": ".py",
   "mimetype": "text/x-python",
   "name": "python",
   "nbconvert_exporter": "python",
   "pygments_lexer": "ipython3",
   "version": "3.7.1"
  }
 },
 "nbformat": 4,
 "nbformat_minor": 2
}
