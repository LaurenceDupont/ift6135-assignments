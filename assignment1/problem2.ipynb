{
 "cells": [
  {
   "cell_type": "markdown",
   "metadata": {},
   "source": [
    "# Problem 2"
   ]
  },
  {
   "cell_type": "code",
   "execution_count": 18,
   "metadata": {},
   "outputs": [],
   "source": [
    "from __future__ import print_function\n",
    "import time\n",
    "import numpy as np"
   ]
  },
  {
   "cell_type": "code",
   "execution_count": 19,
   "metadata": {},
   "outputs": [],
   "source": [
    "import torch\n",
    "import torch.nn as nn\n",
    "import torch.optim as optim\n",
    "import torch.nn.init as init\n",
    "import torch.nn.functional as F"
   ]
  },
  {
   "cell_type": "code",
   "execution_count": 20,
   "metadata": {},
   "outputs": [],
   "source": [
    "import torchvision\n",
    "import torchvision.transforms"
   ]
  },
  {
   "cell_type": "code",
   "execution_count": 21,
   "metadata": {},
   "outputs": [],
   "source": [
    "import matplotlib.pyplot as plt"
   ]
  },
  {
   "cell_type": "code",
   "execution_count": 22,
   "metadata": {},
   "outputs": [],
   "source": [
    "mnist_transforms = torchvision.transforms.Compose([torchvision.transforms.ToTensor()])\n",
    "mnist_train = torchvision.datasets.MNIST(root='./data', train=True, transform=mnist_transforms, download=True)\n",
    "mnist_test = torchvision.datasets.MNIST(root='./data', train=False, transform=mnist_transforms, download=True)"
   ]
  },
  {
   "cell_type": "code",
   "execution_count": 56,
   "metadata": {},
   "outputs": [
    {
     "data": {
      "text/plain": [
       "10000"
      ]
     },
     "execution_count": 56,
     "metadata": {},
     "output_type": "execute_result"
    }
   ],
   "source": [
    "len(mnist_test)"
   ]
  },
  {
   "cell_type": "code",
   "execution_count": 24,
   "metadata": {},
   "outputs": [],
   "source": [
    "train_loader = torch.utils.data.DataLoader(mnist_train, batch_size=64, shuffle=True, num_workers=2)\n",
    "test_loader = torch.utils.data.DataLoader(mnist_test, batch_size=64, shuffle=True, num_workers=2)"
   ]
  },
  {
   "cell_type": "code",
   "execution_count": 25,
   "metadata": {},
   "outputs": [],
   "source": [
    "class Classifier(nn.Module):\n",
    "    \"\"\"Convnet Classifier\"\"\"\n",
    "    def __init__(self):\n",
    "        super(Classifier, self).__init__()\n",
    "        self.conv = nn.Sequential(\n",
    "            # Layer 1\n",
    "            nn.Conv2d(in_channels=1, out_channels=64, kernel_size=(3, 3), padding=1),\n",
    "            nn.Dropout(p=0.8),\n",
    "            nn.ReLU(),\n",
    "            \n",
    "            # Layer 2\n",
    "            nn.Conv2d(in_channels=64, out_channels=96, kernel_size=(3, 3), padding=1),\n",
    "            nn.Dropout(p=0.8),\n",
    "            nn.ReLU(),\n",
    "            nn.MaxPool2d(kernel_size=(2, 2), stride=2),\n",
    "            \n",
    "            # Layer 3\n",
    "            nn.Conv2d(in_channels=96, out_channels=128, kernel_size=(3, 3), padding=1),\n",
    "            nn.Dropout(p=0.8),\n",
    "            nn.ReLU(),\n",
    "            nn.MaxPool2d(kernel_size=(2, 2), stride=2),\n",
    "            \n",
    "            # Layer 4\n",
    "            nn.Conv2d(in_channels=128, out_channels=192, kernel_size=(3, 3), padding=1),\n",
    "            nn.Dropout(p=0.8),\n",
    "            nn.ReLU(),\n",
    "            nn.MaxPool2d(kernel_size=(2, 2), stride=2),\n",
    "            \n",
    "            # Layer 5\n",
    "            nn.Conv2d(in_channels=192, out_channels=256, kernel_size=(3,3), padding=1),\n",
    "            nn.Dropout(p=0.8),\n",
    "            nn.ReLU(),\n",
    "            nn.MaxPool2d(kernel_size=(2,2), stride=2)\n",
    "        )\n",
    "        # Logistic Regression\n",
    "        self.clf = nn.Linear(256, 10)\n",
    "\n",
    "    def forward(self, x):\n",
    "        return self.clf(self.conv(x).squeeze())\n"
   ]
  },
  {
   "cell_type": "code",
   "execution_count": 30,
   "metadata": {},
   "outputs": [
    {
     "name": "stdout",
     "output_type": "stream",
     "text": [
      "True\n"
     ]
    }
   ],
   "source": [
    "cuda_available = torch.cuda.is_available()\n",
    "print(cuda_available)"
   ]
  },
  {
   "cell_type": "code",
   "execution_count": 60,
   "metadata": {},
   "outputs": [],
   "source": [
    "clf = Classifier()\n",
    "if cuda_available:\n",
    "    clf = clf.cuda()\n",
    "optimizer = torch.optim.Adam(clf.parameters(), lr=5e-4)\n",
    "scheduler_ = torch.optim.lr_scheduler.MultiStepLR(optimizer, [6,8], gamma=0.8)\n",
    "criterion = nn.CrossEntropyLoss()\n",
    "# This criterion combines nn.LogSoftmax() and nn.NLLLoss() in one single class."
   ]
  },
  {
   "cell_type": "code",
   "execution_count": 61,
   "metadata": {},
   "outputs": [
    {
     "name": "stdout",
     "output_type": "stream",
     "text": [
      "Epoch 0 Train Acc: 49.857 % Test Acc : 90.340 %\n",
      "--------------------------------------------------------------\n",
      "Epoch 1 Train Acc: 86.753 % Test Acc : 95.180 %\n",
      "--------------------------------------------------------------\n",
      "Epoch 2 Train Acc: 91.237 % Test Acc : 97.170 %\n",
      "--------------------------------------------------------------\n",
      "Epoch 3 Train Acc: 92.723 % Test Acc : 97.530 %\n",
      "--------------------------------------------------------------\n",
      "Epoch 4 Train Acc: 93.693 % Test Acc : 98.210 %\n",
      "--------------------------------------------------------------\n",
      "Epoch 5 Train Acc: 94.345 % Test Acc : 98.410 %\n",
      "--------------------------------------------------------------\n",
      "Epoch 6 Train Acc: 94.752 % Test Acc : 98.440 %\n",
      "--------------------------------------------------------------\n",
      "Epoch 7 Train Acc: 94.993 % Test Acc : 98.500 %\n",
      "--------------------------------------------------------------\n",
      "Epoch 8 Train Acc: 95.393 % Test Acc : 98.290 %\n",
      "--------------------------------------------------------------\n",
      "Epoch 9 Train Acc: 95.408 % Test Acc : 98.530 %\n",
      "--------------------------------------------------------------\n"
     ]
    },
    {
     "data": {
      "text/plain": [
       "<matplotlib.legend.Legend at 0x1e6cd695ba8>"
      ]
     },
     "execution_count": 61,
     "metadata": {},
     "output_type": "execute_result"
    },
    {
     "data": {
      "image/png": "[encoded data removed]",
      "text/plain": [
       "<Figure size 432x288 with 1 Axes>"
      ]
     },
     "metadata": {
      "needs_background": "light"
     },
     "output_type": "display_data"
    }
   ],
   "source": [
    "dict_err = {}\n",
    "dict_err[\"tr\"] = []\n",
    "dict_err[\"val\"] = []\n",
    "\n",
    "for epoch in range(10):\n",
    "    tr_losses = []\n",
    "    tr_total = 0\n",
    "    tr_correct = 0\n",
    "    # Train\n",
    "    for batch_idx, (inputs, targets) in enumerate(train_loader):\n",
    "        if cuda_available:\n",
    "            inputs, targets = inputs.cuda(), targets.cuda()\n",
    "\n",
    "        # scheduler_.step()\n",
    "        optimizer.zero_grad()\n",
    "        outputs = clf(inputs)\n",
    "        loss = criterion(outputs, targets)\n",
    "        loss.backward()\n",
    "        optimizer.step()\n",
    "        tr_losses.append(loss.data.item())\n",
    "        _, predicted = torch.max(nn.Softmax(outputs).data, 1)\n",
    "        tr_total += targets.size(0)\n",
    "        tr_correct += predicted.eq(targets.data).cpu().sum()\n",
    "        tr_err = 100.*np.float32(tr_correct)/np.float32(tr_total)\n",
    "        \n",
    "#         if batch_idx%50==0:\n",
    "#             print('Epoch : %d Loss : %.3f ' % (epoch, np.mean(losses)))\n",
    "    dict_err[\"tr\"].append(tr_err)\n",
    "    \n",
    "    # Evaluate\n",
    "    clf.eval()\n",
    "    va_total = 0\n",
    "    va_correct = 0\n",
    "    for batch_idx, (inputs, targets) in enumerate(test_loader):\n",
    "        if cuda_available:\n",
    "            inputs, targets = inputs.cuda(), targets.cuda()\n",
    "\n",
    "        outputs = clf(inputs)\n",
    "        _, predicted = torch.max(nn.Softmax(outputs).data, 1)\n",
    "        va_total += targets.size(0)\n",
    "        va_correct += predicted.eq(targets.data).cpu().sum()\n",
    "        va_err = 100.*np.float32(va_correct)/np.float32(va_total)\n",
    "    \n",
    "    dict_err[\"val\"].append(va_err)\n",
    "\n",
    "    \n",
    "    print('Epoch %d Train Acc: %.3f %% Test Acc : %.3f %%' % (epoch, tr_err, va_err))\n",
    "    print('--------------------------------------------------------------')\n",
    "    clf.train()\n",
    "\n",
    "x = np.arange(1,len(dict_err[\"tr\"])+1,1)\n",
    "fig = plt.figure(1)\n",
    "plt.title(\"Training and Validation errors\")\n",
    "plt.plot(x, dict_err[\"tr\"], label=\"Training\")\n",
    "plt.plot(x, dict_err[\"val\"], label=\"Validation\")\n",
    "plt.xlabel(\"epoch\")\n",
    "plt.ylabel(\"error %\")\n",
    "plt.legend()"
   ]
  }
 ],
 "metadata": {
  "kernelspec": {
   "display_name": "Python 3",
   "language": "python",
   "name": "python3"
  },
  "language_info": {
   "codemirror_mode": {
    "name": "ipython",
    "version": 3
   },
   "file_extension": ".py",
   "mimetype": "text/x-python",
   "name": "python",
   "nbconvert_exporter": "python",
   "pygments_lexer": "ipython3",
   "version": "3.7.1"
  }
 },
 "nbformat": 4,
 "nbformat_minor": 2
}
